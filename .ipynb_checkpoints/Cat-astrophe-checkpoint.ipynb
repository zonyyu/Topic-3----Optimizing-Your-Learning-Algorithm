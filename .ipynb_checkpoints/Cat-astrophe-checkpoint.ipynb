{
 "cells": [
  {
   "cell_type": "markdown",
   "id": "5e399066",
   "metadata": {},
   "source": [
    "# Cat-astrophe\n",
    "\n",
    "You've recently been hired by the city of Dogtopia to solve a growing problem with cats. You see, the residents of Dogtopia all hate cats, and many of them are allergic to cats. In recent years, cats have found their ways into the city gate, past the cat-traps, and started multiplying within the city perimeters. A team of rookie machine learning scientists developed a Convolutional Neural Network that take in images from security cameras and detect cats, however since they lack experience, they can't figure out why their neural network performs poorly. You, being a industry expert with many years of experience, are hired by the city to look over the scientists' work, and make the adjustments necessary to fix their neural network."
   ]
  },
  {
   "cell_type": "code",
   "execution_count": null,
   "id": "5DZ2ULBllwBf",
   "metadata": {
    "colab": {
     "base_uri": "https://localhost:8080/"
    },
    "id": "5DZ2ULBllwBf",
    "outputId": "95056dbc-6121-4b59-9fd5-0e62cf001b26"
   },
   "outputs": [],
   "source": [
    "!pip install torch torchmetrics"
   ]
  },
  {
   "cell_type": "code",
   "execution_count": null,
   "id": "5VYHr3Lmmh_A",
   "metadata": {
    "colab": {
     "base_uri": "https://localhost:8080/"
    },
    "id": "5VYHr3Lmmh_A",
    "outputId": "42cd7ea4-5862-4f9b-ac09-91745c075e0d",
    "scrolled": false
   },
   "outputs": [],
   "source": [
    "! nvidia-smi"
   ]
  },
  {
   "cell_type": "markdown",
   "id": "f9783862",
   "metadata": {},
   "source": [
    "## Visualizing our Dataset\n",
    "\n",
    "The fine folks of Dogtopia has gathered what they describe as a \"Large, Diverse Dataset\" of cat and non-cat images. They have already done the processing for you."
   ]
  },
  {
   "cell_type": "code",
   "execution_count": null,
   "id": "dc089c39",
   "metadata": {
    "id": "dc089c39"
   },
   "outputs": [],
   "source": [
    "import numpy as np\n",
    "import pandas as pd\n",
    "import h5py\n",
    "import matplotlib.pyplot as plt\n",
    "\n",
    "pd.set_option(\"display.max_columns\", None)"
   ]
  },
  {
   "cell_type": "code",
   "execution_count": null,
   "id": "d73b8728",
   "metadata": {
    "colab": {
     "base_uri": "https://localhost:8080/"
    },
    "id": "d73b8728",
    "outputId": "426cf541-cbac-4128-bfb0-443727ac9051"
   },
   "outputs": [],
   "source": [
    "trainset = h5py.File(\"datasets/train_catvnoncat.h5\")\n",
    "testset = h5py.File(\"datasets/test_catvnoncat.h5\")\n",
    "#print(trainset.keys())\n",
    "\n",
    "features = np.array(trainset[\"train_set_x\"])\n",
    "labels = np.array(trainset[\"train_set_y\"]).reshape(-1, 1)\n",
    "\n",
    "print(f\"features shape: {features.shape}\")\n",
    "print(f\"labels shape: {labels.shape}\")\n",
    "\n",
    "\n",
    "plt.imshow(features[1])\n",
    "plt.show()\n",
    "print(labels[1])"
   ]
  },
  {
   "cell_type": "code",
   "execution_count": null,
   "id": "32891344",
   "metadata": {
    "colab": {
     "base_uri": "https://localhost:8080/"
    },
    "id": "32891344",
    "outputId": "6add665c-2437-4041-cac0-7b671ec99f06"
   },
   "outputs": [],
   "source": [
    "from sklearn.model_selection import train_test_split\n",
    "\n",
    "X_train, X_cv, Y_train, Y_cv = train_test_split(features, labels, test_size=0.3)\n",
    "\n",
    "print(X_train.shape)\n",
    "print(Y_train.shape)\n",
    "print(X_cv.shape)\n",
    "print(Y_cv.shape)"
   ]
  },
  {
   "cell_type": "code",
   "execution_count": null,
   "id": "4a6fa2a5",
   "metadata": {},
   "outputs": [],
   "source": [
    "def class_weights(Y_train):\n",
    "    \"\"\"\n",
    "    Creates a class weight array for a binary classification\n",
    "    Args:\n",
    "        Y_train: np.array containing binary labels\n",
    "    Returns:\n",
    "        weights: np.array with weights for each example\n",
    "    \"\"\"\n",
    "    \n",
    "    pos = np.sum(Y_train)\n",
    "    neg = Y_train.shape[0] - pos\n",
    "    print(f\"Number of positive examples: {pos}\")\n",
    "    print(f\"Number of negative examples: {neg}\\n\")\n",
    "    w_pos = Y_train.shape[0]/(2*pos)\n",
    "    w_neg = Y_train.shape[0]/(2*neg)\n",
    "    print(f\"weight of pos: {w_pos}\")\n",
    "    print(f\"weight of neg: {w_neg}\")\n",
    "    posmask = Y_train * w_pos\n",
    "    negmask = ~(Y_train.astype(bool)) * w_neg\n",
    "    weights = posmask + negmask\n",
    "    return weights\n",
    "\n",
    "    \n",
    "weights = class_weights(Y_train)"
   ]
  },
  {
   "cell_type": "markdown",
   "id": "2aed78ae",
   "metadata": {},
   "source": [
    "## Their Model\n",
    "\n",
    "The scientists of Dogtopia presented you with their convolutional neural network they designed. It really looks like something developed by experienced computing scientists, so what can possibly go wrong?"
   ]
  },
  {
   "cell_type": "code",
   "execution_count": null,
   "id": "3a7291b2",
   "metadata": {
    "id": "3a7291b2"
   },
   "outputs": [],
   "source": [
    "import torch\n",
    "from torch.nn import Module, Linear, BatchNorm1d, BatchNorm2d, Sigmoid, BCELoss, ReLU, Conv2d, MaxPool2d, Dropout\n",
    "from torch.optim import SGD, Adam\n",
    "from torchmetrics import Accuracy\n",
    "from bokeh.layouts import Row\n",
    "\n",
    "from bokeh.plotting import figure, show, output_notebook\n",
    "\n",
    "class Classifier(Module):\n",
    "    def __init__(self, input_dim, output_dim):\n",
    "        super().__init__()\n",
    "        self.bnin = BatchNorm2d(3)\n",
    "        self.conv1 = Conv2d(3, 24, kernel_size=7, padding=3)\n",
    "        self.bn1 = BatchNorm2d(24)\n",
    "        self.act1 = ReLU()\n",
    "        self.mp1 = MaxPool2d(2)\n",
    "        self.d1 = Dropout(0.5)\n",
    "        \n",
    "        self.conv2 = Conv2d(24, 48, kernel_size=5, padding=2)\n",
    "        self.bn2 = BatchNorm2d(48)\n",
    "        self.act2 = ReLU()\n",
    "        self.mp2 = MaxPool2d(4)     \n",
    "        self.d2 = Dropout(0.5)        \n",
    "        \n",
    "        self.fc3 = Linear(48*8*8, 200)\n",
    "        self.bn3 = BatchNorm1d(200)\n",
    "        self.act3 = ReLU()\n",
    "        self.d3 = Dropout(0.5)\n",
    "\n",
    "        self.fc4 = Linear(200, 100)\n",
    "        self.bn4 = BatchNorm1d(100)\n",
    "        self.act4 = ReLU()\n",
    "        self.d4 = Dropout(0.5)       \n",
    "\n",
    "        self.fc5 = Linear(100, 100)\n",
    "        self.bn5 = BatchNorm1d(100)\n",
    "        self.act5 = ReLU()\n",
    "        self.d5 = Dropout(0.5) \n",
    "\n",
    "        self.out = Linear(100, 1)\n",
    "        self.act6 = Sigmoid()\n",
    "\n",
    "        self.train_costs = []\n",
    "        self.val_costs = []\n",
    "        self.train_acc = []\n",
    "        self.val_acc = []\n",
    "        self.epochs = None\n",
    "    \n",
    "    def forward(self, x):\n",
    "        x = x.permute(0,3,1,2)\n",
    "        \n",
    "        x = self.bnin(x)\n",
    "        x = self.conv1(x)\n",
    "        x = self.bn1(x)\n",
    "        x = self.act1(x)\n",
    "        x = self.mp1(x)\n",
    "        x = self.d1(x)\n",
    "        \n",
    "        x = self.conv2(x)\n",
    "        x = self.bn2(x)\n",
    "        x = self.act2(x)\n",
    "        x = self.mp2(x)\n",
    "        x = self.d2(x)\n",
    "\n",
    "        x = torch.flatten(x, start_dim=1)\n",
    "        x = self.fc3(x)\n",
    "        x = self.bn3(x)\n",
    "        x = self.act3(x)\n",
    "        x = self.d3(x)\n",
    "\n",
    "        x = self.fc4(x)\n",
    "        x = self.bn4(x)\n",
    "        x = self.act4(x)\n",
    "        x = self.d4(x)\n",
    "\n",
    "        x = self.fc5(x)\n",
    "        x = self.bn5(x)\n",
    "        x = self.act5(x)\n",
    "        x = self.d5(x)\n",
    "\n",
    "        x = self.out(x)\n",
    "        x = self.act6(x)\n",
    "\n",
    "        return x\n",
    "\n",
    "\n",
    "    \n",
    "    def fit(self, X_train, Y_train, loss_fn, opt, X_cv=None, Y_cv=None, epochs=1):\n",
    "        self.epochs = epochs    \n",
    "        for i in range(epochs):   \n",
    "            self.train()\n",
    "            opt.zero_grad()\n",
    "        \n",
    "            Y_pred = self(X_train)\n",
    "            cost = loss_fn(Y_pred, Y_train)\n",
    "            \n",
    "            acc = Accuracy().cuda()\n",
    "            \n",
    "            msg = f\"Iter: {i}    loss: {cost.item(): .4f}    accuracy: {acc(torch.round(Y_pred).int(), Y_train.int()): .4f}    \"\n",
    "            self.train_costs.append(cost.item())\n",
    "            self.train_acc.append(acc(torch.round(Y_pred).int(), Y_train.int()).item())\n",
    "\n",
    "            if torch.is_tensor(X_cv) and torch.is_tensor(Y_cv):\n",
    "                self.eval()\n",
    "                Y_pred_val = self(X_cv)\n",
    "                cost_val = BCELoss().cuda()(Y_pred_val, Y_cv)\n",
    "                msg += f\"cv_loss: {cost_val.item(): .4f}    cv_accuracy: {acc(torch.round(Y_pred_val).int(), Y_cv.int()): .4f}\"\n",
    "                self.val_costs.append(cost_val.item())\n",
    "                self.val_acc.append(acc(torch.round(Y_pred_val).int(), Y_cv.int()).item())\n",
    "                self.train()\n",
    "            print(msg)\n",
    "            \n",
    "            cost.backward()\n",
    "        \n",
    "            opt.step()\n",
    "\n",
    "    def disp_metrics(self):\n",
    "\n",
    "        p = figure(width=500, height=300, x_axis_label=\"iterations\", y_axis_label=\"cost\", title=\"costs vs iterations\", y_range=(0, 1.5))\n",
    "        p.line(np.arange(1, self.epochs+1, 1),self.train_costs, color=\"blue\")\n",
    "        p.line(np.arange(1, self.epochs+1, 1), self.val_costs, color=\"red\")\n",
    "\n",
    "        p2 = figure(width=500, height=300, x_axis_label=\"iterations\", y_axis_label=\"accuracy\", title=\"accuracy vs iterations\", y_range=(0.4, 1.05))\n",
    "        p2.line(np.arange(1, self.epochs+1, 1), self.train_acc, color=\"blue\")\n",
    "        p2.line(np.arange(1, self.epochs+1, 1), self.val_acc, color=\"red\")\n",
    "\n",
    "        output_notebook()\n",
    "        show(Row(p, p2))"
   ]
  },
  {
   "cell_type": "code",
   "execution_count": null,
   "id": "07d9476b",
   "metadata": {},
   "outputs": [],
   "source": [
    "input_dim, output_dim = (X_train.shape[1], 1)\n",
    "LEARNING_RATE = 0.001\n",
    "EPOCHS = 300\n",
    "\n",
    "model_v1 = Classifier(input_dim, output_dim).cuda()\n",
    "optimizer_v1 = Adam(model_v1.parameters(), lr=LEARNING_RATE)\n",
    "criterion_v1 = BCELoss(weight=torch.from_numpy(weights).cuda()).cuda()"
   ]
  },
  {
   "cell_type": "code",
   "execution_count": null,
   "id": "fe9631e6",
   "metadata": {
    "scrolled": true
   },
   "outputs": [],
   "source": [
    "X_train_t = torch.from_numpy(X_train).float().cuda()\n",
    "Y_train_t = torch.from_numpy(Y_train).float().cuda()\n",
    "X_cv_t = torch.from_numpy(X_cv).float().cuda()\n",
    "Y_cv_t = torch.from_numpy(Y_cv).float().cuda()\n",
    "\n",
    "model_v1.fit(X_train_t, Y_train_t, criterion_v1, optimizer_v1, X_cv=X_cv_t, Y_cv=Y_cv_t, epochs=EPOCHS)\n",
    "model_v1.disp_metrics()"
   ]
  },
  {
   "cell_type": "markdown",
   "id": "7be7b9ea",
   "metadata": {},
   "source": [
    "## Your Take\n",
    "\n",
    "While the machine learning model is state-of-the-art, you realize that the scientists really do not know how to analyze training and cross validation cost! While their model is doing very well on the training set, it **generalizes very poorly to the cross validation set**. See if you can best their attempt by applying some **L2 Regularization**."
   ]
  },
  {
   "cell_type": "code",
   "execution_count": null,
   "id": "3357e5ba",
   "metadata": {
    "id": "3357e5ba"
   },
   "outputs": [],
   "source": [
    "input_dim, output_dim = (X_train.shape[1], 1)\n",
    "LEARNING_RATE = 0.001\n",
    "EPOCHS = 300\n",
    "\n",
    "# ====  CHANGE THIS PARAMETER ==== #\n",
    "L2 = None\n",
    "# ================================ #\n",
    "\n",
    "model_v2 = Classifier(input_dim, output_dim).cuda()\n",
    "optimizer_v2 = Adam(model_v2.parameters(), lr=LEARNING_RATE, weight_decay=L2)\n",
    "criterion_v2 = BCELoss(weight=torch.from_numpy(weights).cuda()).cuda()"
   ]
  },
  {
   "cell_type": "code",
   "execution_count": null,
   "id": "23744aa0",
   "metadata": {
    "colab": {
     "base_uri": "https://localhost:8080/",
     "height": 1000
    },
    "id": "23744aa0",
    "outputId": "e2a16f28-3c8a-44df-acca-d7674597175d",
    "scrolled": true
   },
   "outputs": [],
   "source": [
    "X_train_t = torch.from_numpy(X_train).float().cuda()\n",
    "Y_train_t = torch.from_numpy(Y_train).float().cuda()\n",
    "X_cv_t = torch.from_numpy(X_cv).float().cuda()\n",
    "Y_cv_t = torch.from_numpy(Y_cv).float().cuda()\n",
    "\n",
    "model_v2.fit(X_train_t, Y_train_t, criterion_v2, optimizer_v2, X_cv=X_cv_t, Y_cv=Y_cv_t, epochs=EPOCHS)\n",
    "model_v2.disp_metrics()"
   ]
  },
  {
   "cell_type": "markdown",
   "id": "68db2fd3",
   "metadata": {
    "id": "6fac3cf7"
   },
   "source": [
    "## Testing Your Model\n",
    "\n",
    "Now it's time to report back to the city of Dogtopia on your results! You use the testing data they gave you and demoed your classifier."
   ]
  },
  {
   "cell_type": "code",
   "execution_count": null,
   "id": "1773a504",
   "metadata": {},
   "outputs": [],
   "source": [
    "pass"
   ]
  },
  {
   "cell_type": "markdown",
   "id": "2d69d0e9",
   "metadata": {},
   "source": [
    "## Conclusion\n",
    "\n",
    "The city of Dogtopia are thoroughly impressed, and offered you a permanent job there. You politely declined their offer (since you like cats), however you agreed to spend a few days explaining to the scientists the importance of **deciphering bias and variance problems from training/validation loss and accuracy**, as well as **fixing variance problems using regularization.**"
   ]
  },
  {
   "cell_type": "code",
   "execution_count": null,
   "id": "aae491ad",
   "metadata": {},
   "outputs": [],
   "source": []
  }
 ],
 "metadata": {
  "accelerator": "GPU",
  "colab": {
   "collapsed_sections": [],
   "name": "Optimization Lab.ipynb",
   "provenance": []
  },
  "kernelspec": {
   "display_name": "Python 3",
   "language": "python",
   "name": "python3"
  },
  "language_info": {
   "codemirror_mode": {
    "name": "ipython",
    "version": 3
   },
   "file_extension": ".py",
   "mimetype": "text/x-python",
   "name": "python",
   "nbconvert_exporter": "python",
   "pygments_lexer": "ipython3",
   "version": "3.9.2"
  }
 },
 "nbformat": 4,
 "nbformat_minor": 5
}
